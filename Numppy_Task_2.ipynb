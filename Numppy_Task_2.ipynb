{
  "nbformat": 4,
  "nbformat_minor": 0,
  "metadata": {
    "colab": {
      "provenance": []
    },
    "kernelspec": {
      "name": "python3",
      "display_name": "Python 3"
    },
    "language_info": {
      "name": "python"
    }
  },
  "cells": [
    {
      "cell_type": "code",
      "execution_count": null,
      "metadata": {
        "colab": {
          "base_uri": "https://localhost:8080/"
        },
        "id": "AH4lbVrlR5H0",
        "outputId": "cf779b07-0550-408e-9e8f-e331551163c8"
      },
      "outputs": [
        {
          "output_type": "stream",
          "name": "stdout",
          "text": [
            "Array: [ 1  2  3  4  5  6  7  8  9 10]\n",
            "Sum: 55\n",
            "Mean: 5.5\n",
            "Standard Deviation: 2.8722813232690143\n"
          ]
        }
      ],
      "source": [
        "#1\n",
        "\n",
        "import numpy as np\n",
        "\n",
        "arr = np.arange(1, 11)\n",
        "\n",
        "print(\"Array:\", arr)\n",
        "\n",
        "sum_elements = np.sum(arr)\n",
        "print(\"Sum:\", sum_elements)\n",
        "\n",
        "mean_elements = np.mean(arr)\n",
        "print(\"Mean:\", mean_elements)\n",
        "\n",
        "std_dev = np.std(arr)\n",
        "print(\"Standard Deviation:\", std_dev)\n"
      ]
    },
    {
      "cell_type": "code",
      "source": [
        "#2\n",
        "\n",
        "import numpy as np\n",
        "\n",
        "arr = np.array([10, 20, 30, 40, 50, 60])\n",
        "\n",
        "print(\"Array:\", arr)\n",
        "\n",
        "second_element = arr[1]\n",
        "fourth_element = arr[3]\n",
        "print(\"Second Element:\", second_element)\n",
        "print(\"Fourth Element:\", fourth_element)\n",
        "\n",
        "third_onwards = arr[2:]\n",
        "print(\"Elements from Third Onwards:\", third_onwards)\n",
        "\n",
        "reversed_arr = arr[::-1]\n",
        "print(\"Reversed Array:\", reversed_arr)\n"
      ],
      "metadata": {
        "colab": {
          "base_uri": "https://localhost:8080/"
        },
        "id": "kRL2tYBQR8lG",
        "outputId": "9ed9d604-0b5f-4fd8-cb0c-ad1d26634862"
      },
      "execution_count": null,
      "outputs": [
        {
          "output_type": "stream",
          "name": "stdout",
          "text": [
            "Array: [10 20 30 40 50 60]\n",
            "Second Element: 20\n",
            "Fourth Element: 40\n",
            "Elements from Third Onwards: [30 40 50 60]\n",
            "Reversed Array: [60 50 40 30 20 10]\n"
          ]
        }
      ]
    },
    {
      "cell_type": "code",
      "source": [
        "#3\n",
        "\n",
        "import numpy as np\n",
        "\n",
        "arr_1d = np.arange(1, 13)\n",
        "\n",
        "print(\"Original Array:\", arr_1d)\n",
        "\n",
        "arr_2d = arr_1d.reshape(3, 4)\n",
        "print(\"Reshaped Array:\\n\", arr_2d)\n"
      ],
      "metadata": {
        "colab": {
          "base_uri": "https://localhost:8080/"
        },
        "id": "59Csw_g_R8hi",
        "outputId": "f2462502-448d-434b-827b-c791ffc55ae1"
      },
      "execution_count": null,
      "outputs": [
        {
          "output_type": "stream",
          "name": "stdout",
          "text": [
            "Original Array: [ 1  2  3  4  5  6  7  8  9 10 11 12]\n",
            "Reshaped Array:\n",
            " [[ 1  2  3  4]\n",
            " [ 5  6  7  8]\n",
            " [ 9 10 11 12]]\n"
          ]
        }
      ]
    },
    {
      "cell_type": "code",
      "source": [
        "#4\n",
        "\n",
        "import numpy as np\n",
        "\n",
        "A = np.array([1, 2, 3])\n",
        "B = np.array([4, 5, 6])\n",
        "\n",
        "print(\"Array A:\", A)\n",
        "print(\"Array B:\", B)\n",
        "\n",
        "addition = A + B\n",
        "print(\"Addition:\", addition)\n",
        "\n",
        "subtraction = A - B\n",
        "print(\"Subtraction:\", subtraction)\n",
        "\n",
        "multiplication = A * B\n",
        "print(\"Element-wise Multiplication:\", multiplication)\n",
        "\n",
        "division = A / B\n",
        "print(\"Element-wise Division:\", division)\n",
        "\n"
      ],
      "metadata": {
        "colab": {
          "base_uri": "https://localhost:8080/"
        },
        "id": "aleMeBPpR8eb",
        "outputId": "9eb02021-3a10-4405-82d4-30c7a33085fe"
      },
      "execution_count": null,
      "outputs": [
        {
          "output_type": "stream",
          "name": "stdout",
          "text": [
            "Array A: [1 2 3]\n",
            "Array B: [4 5 6]\n",
            "Addition: [5 7 9]\n",
            "Subtraction: [-3 -3 -3]\n",
            "Element-wise Multiplication: [ 4 10 18]\n",
            "Element-wise Division: [0.25 0.4  0.5 ]\n"
          ]
        }
      ]
    }
  ]
}